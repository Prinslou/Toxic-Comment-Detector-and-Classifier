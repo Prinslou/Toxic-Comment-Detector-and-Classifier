{
 "cells": [
  {
   "cell_type": "code",
   "execution_count": null,
   "metadata": {},
   "outputs": [],
   "source": [
    "import numpy as np\n",
    "import pandas as pd\n",
    "import xgboost as xgb\n",
    "import pickle as pickle\n",
    "import nltk\n",
    "\n",
    "from sklearn.linear_model import LogisticRegression\n",
    "from sklearn.model_selection import cross_val_score\n",
    "from gensim.models.word2vec import Word2Vec\n",
    "from sklearn import preprocessing,metrics \n",
    "pd.set_option(\"display.max_columns\", 100)\n",
    "import warnings\n",
    "warnings.filterwarnings('ignore')\n",
    "from sklearn.model_selection import train_test_split\n",
    "from sklearn.ensemble import RandomForestClassifier\n",
    "from sklearn.linear_model import LogisticRegression\n",
    "from sklearn.neural_network import MLPClassifier\n",
    "from sklearn.metrics import accuracy_score\n",
    "import matplotlib.pyplot as plt\n",
    "%matplotlib inline\n",
    "from sklearn import linear_model,svm\n",
    "from sklearn.preprocessing import OneHotEncoder, LabelEncoder\n",
    "from sklearn.feature_extraction import FeatureHasher\n",
    "from sklearn.metrics import average_precision_score, classification_report,confusion_matrix\n",
    "from scipy.stats import skew\n",
    "from nltk.stem.porter import PorterStemmer\n",
    "from nltk.corpus import stopwords\n",
    "from tqdm import tqdm\n",
    "from nltk import word_tokenize\n",
    "from sklearn.multiclass import OneVsRestClassifier\n",
    "from sklearn.metrics import accuracy_score"
   ]
  },
  {
   "cell_type": "code",
   "execution_count": null,
   "metadata": {},
   "outputs": [],
   "source": [
    "classes = ['toxic', 'severe_toxic', 'obscene', 'threat', 'insult', 'identity_hate']\n",
    "data = pd.read_csv('train.csv').fillna(' ')\n",
    "data['comment_text'].fillna(\"missing\", inplace=True)\n",
    "X_train, X_test, y_train, y_test = train_test_split(data[\"comment_text\"],data[classes],test_size=0.25,random_state=55)\n",
    "data_text = pd.concat([X_train,X_test])"
   ]
  },
  {
   "cell_type": "code",
   "execution_count": null,
   "metadata": {},
   "outputs": [],
   "source": [
    "#glove embedding\n",
    "GLOVE_6B_50D_PATH = \"glove.6B.50d.txt\"\n",
    "glove = {}\n",
    "glove_path = open(GLOVE_6B_50D_PATH)\n",
    "for line in tqdm(glove_path):\n",
    "    line_arr = line.split()\n",
    "    word = line_arr[0]\n",
    "    glove[word] = np.asarray(line_arr[1:], dtype='float32')\n",
    "glove_path.close()"
   ]
  },
  {
   "cell_type": "code",
   "execution_count": null,
   "metadata": {},
   "outputs": [],
   "source": [
    "#normalization \n",
    "nltk.download('punkt')\n",
    "porter = PorterStemmer()\n",
    "sw = set(stopwords.words('english'))\n",
    "sw.update(['.', \"'\", '(', ')', '[', ']', '{', '}'',', '\"', ':', ';'])\n",
    "def vectorize(s):\n",
    "    words = str(sentence).lower()\n",
    "    tokenized = word_tokenize(words)\n",
    "    updated_tokens=[]\n",
    "    final_tokens = []\n",
    "    for word in tokenized:\n",
    "        if not word in sw and word.isalpha(): \n",
    "            updated_tokens.append(word)\n",
    "    for token in updated_tokens:\n",
    "        try:\n",
    "            final_tokens.append(glove[token])\n",
    "        except:\n",
    "            continue  \n",
    "    final_tokens = np.array(final_tokens)\n",
    "    total =  final_tokens.sum(axis=0)\n",
    "    data_type = type(total)\n",
    "    if data_type != np.ndarray: return np.zeros(60)\n",
    "    denom = np.sqrt((total ** 2).sum())\n",
    "    return total / denom"
   ]
  },
  {
   "cell_type": "code",
   "execution_count": null,
   "metadata": {},
   "outputs": [],
   "source": [
    "xg_train = [vectorize(sentence) for sentence in tqdm(X_train)]\n",
    "xg_test = [vectorize(sentence) for sentence in tqdm(X_test)]"
   ]
  },
  {
   "cell_type": "code",
   "execution_count": null,
   "metadata": {},
   "outputs": [],
   "source": [
    "#logistic regression\n",
    "logreg = OneVsRestClassifier(LogisticRegression())\n",
    "logreg.fit(xg_train, y_train)\n",
    "y_pred = logreg.predict_proba(xg_test)\n",
    "accuracy = accuracy_score(y_test, y_pred, normalize=False)\n",
    "print(\" Test Accuracy: %.2f%%\" % (accuracy * 100.0))"
   ]
  },
  {
   "cell_type": "code",
   "execution_count": null,
   "metadata": {},
   "outputs": [],
   "source": [
    "#svm \n",
    "currsvm = OneVsRestClassifier(SVC())\n",
    "currsvm.fit(xg_train, y_train)\n",
    "y_pred = currsvm.predict_proba(xg_test)\n",
    "accuracy = accuracy_score(y_test, y_pred, normalize=False)\n",
    "print(\" Test Accuracy: %.2f%%\" % (accuracy * 100.0))"
   ]
  },
  {
   "cell_type": "code",
   "execution_count": null,
   "metadata": {},
   "outputs": [],
   "source": [
    "#xgb\n",
    "xgbmodel = OneVsRestClassifier(xgb.XGBClassifier(max_depth=4, n_estimators=100,learning_rate=0.1, silent=False))\n",
    "xgbmodel.fit(xg_train, y_train)\n",
    "y_pred = clf.predict_proba((xg_test)\n",
    "accuracy = accuracy_score(y_test, y_pred, normalize=False)\n",
    "print(\" Test Accuracy: %.2f%%\" % (accuracy * 100.0))                            "
   ]
  }
 ],
 "metadata": {
  "kernelspec": {
   "display_name": "Python 3",
   "language": "python",
   "name": "python3"
  },
  "language_info": {
   "codemirror_mode": {
    "name": "ipython",
    "version": 3
   },
   "file_extension": ".py",
   "mimetype": "text/x-python",
   "name": "python",
   "nbconvert_exporter": "python",
   "pygments_lexer": "ipython3",
   "version": "3.6.8"
  }
 },
 "nbformat": 4,
 "nbformat_minor": 2
}
